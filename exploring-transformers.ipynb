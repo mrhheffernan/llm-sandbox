{
 "cells": [
  {
   "cell_type": "markdown",
   "id": "0afc9ad9",
   "metadata": {},
   "source": [
    "# Exploring Transformers\n",
    "\n",
    "Exploring the hugging face transformers library through messing around with the documentation."
   ]
  },
  {
   "cell_type": "markdown",
   "id": "ec1a947c",
   "metadata": {},
   "source": [
    "## Fine tune a pretrained model\n",
    "\n",
    "Source: https://huggingface.co/docs/transformers/quicktour"
   ]
  },
  {
   "cell_type": "code",
   "execution_count": 1,
   "id": "ea0cc98c",
   "metadata": {},
   "outputs": [
    {
     "name": "stderr",
     "output_type": "stream",
     "text": [
      "/Users/matt.heffernan/Code/venvs/base/lib/python3.12/site-packages/tqdm/auto.py:21: TqdmWarning: IProgress not found. Please update jupyter and ipywidgets. See https://ipywidgets.readthedocs.io/en/stable/user_install.html\n",
      "  from .autonotebook import tqdm as notebook_tqdm\n"
     ]
    }
   ],
   "source": [
    "from datasets import load_dataset"
   ]
  },
  {
   "cell_type": "markdown",
   "id": "31bd2236",
   "metadata": {},
   "source": [
    "Get the dataset"
   ]
  },
  {
   "cell_type": "code",
   "execution_count": 2,
   "id": "9804138d",
   "metadata": {},
   "outputs": [],
   "source": [
    "dataset = load_dataset(\"yelp_review_full\")"
   ]
  },
  {
   "cell_type": "code",
   "execution_count": 3,
   "id": "e0c7aa3c",
   "metadata": {},
   "outputs": [
    {
     "data": {
      "text/plain": [
       "{'label': 0,\n",
       " 'text': 'My expectations for McDonalds are t rarely high. But for one to still fail so spectacularly...that takes something special!\\\\nThe cashier took my friends\\'s order, then promptly ignored me. I had to force myself in front of a cashier who opened his register to wait on the person BEHIND me. I waited over five minutes for a gigantic order that included precisely one kid\\'s meal. After watching two people who ordered after me be handed their food, I asked where mine was. The manager started yelling at the cashiers for \\\\\"serving off their orders\\\\\" when they didn\\'t have their food. But neither cashier was anywhere near those controls, and the manager was the one serving food to customers and clearing the boards.\\\\nThe manager was rude when giving me my order. She didn\\'t make sure that I had everything ON MY RECEIPT, and never even had the decency to apologize that I felt I was getting poor service.\\\\nI\\'ve eaten at various McDonalds restaurants for over 30 years. I\\'ve worked at more than one location. I expect bad days, bad moods, and the occasional mistake. But I have yet to have a decent experience at this store. It will remain a place I avoid unless someone in my party needs to avoid illness from low blood sugar. Perhaps I should go back to the racially biased service of Steak n Shake instead!'}"
      ]
     },
     "execution_count": 3,
     "metadata": {},
     "output_type": "execute_result"
    }
   ],
   "source": [
    "dataset[\"train\"][100]"
   ]
  },
  {
   "cell_type": "markdown",
   "id": "8f506e73",
   "metadata": {},
   "source": [
    "Get the tokenizer"
   ]
  },
  {
   "cell_type": "code",
   "execution_count": 4,
   "id": "98cecb7d",
   "metadata": {},
   "outputs": [],
   "source": [
    "from transformers import AutoTokenizer"
   ]
  },
  {
   "cell_type": "markdown",
   "id": "438e718a",
   "metadata": {},
   "source": [
    "Let's use bert because this is just a demo, so we don't need anything fancy."
   ]
  },
  {
   "cell_type": "code",
   "execution_count": 5,
   "id": "0952e3fd",
   "metadata": {},
   "outputs": [],
   "source": [
    "tokenizer = AutoTokenizer.from_pretrained(\"google-bert/bert-base-cased\")"
   ]
  },
  {
   "cell_type": "code",
   "execution_count": 6,
   "id": "bcd2caa8",
   "metadata": {},
   "outputs": [],
   "source": [
    "def tokenize_function(examples):\n",
    "    return tokenizer(examples[\"text\"], padding=\"max_length\", truncation=True)"
   ]
  },
  {
   "cell_type": "code",
   "execution_count": 7,
   "id": "703c8025",
   "metadata": {},
   "outputs": [],
   "source": [
    "tokenized_datasets = dataset.map(tokenize_function, batched=True)"
   ]
  },
  {
   "cell_type": "markdown",
   "id": "e3ecf9c9",
   "metadata": {},
   "source": [
    "Let's use small datsets so this doesn't take forever to run locally."
   ]
  },
  {
   "cell_type": "code",
   "execution_count": 8,
   "id": "c63b8399",
   "metadata": {},
   "outputs": [],
   "source": [
    "small_train_dataset = tokenized_datasets[\"train\"].shuffle(seed=42).select(range(1000))\n",
    "small_eval_dataset = tokenized_datasets[\"test\"].shuffle(seed=42).select(range(1000))"
   ]
  },
  {
   "cell_type": "markdown",
   "id": "5b8dc7f1",
   "metadata": {},
   "source": [
    "Train with PyTorch"
   ]
  },
  {
   "cell_type": "code",
   "execution_count": 9,
   "id": "10a3dcbd",
   "metadata": {},
   "outputs": [],
   "source": [
    "from transformers import AutoModelForSequenceClassification"
   ]
  },
  {
   "cell_type": "markdown",
   "id": "4345cfe3",
   "metadata": {},
   "source": [
    "Actually fetch the pre-trained model. Because there are 5 stars in reviews, we know there are 5 labels (see the dataset documentation)"
   ]
  },
  {
   "cell_type": "code",
   "execution_count": 10,
   "id": "cc081ce7",
   "metadata": {},
   "outputs": [
    {
     "name": "stderr",
     "output_type": "stream",
     "text": [
      "Some weights of BertForSequenceClassification were not initialized from the model checkpoint at google-bert/bert-base-cased and are newly initialized: ['classifier.bias', 'classifier.weight']\n",
      "You should probably TRAIN this model on a down-stream task to be able to use it for predictions and inference.\n"
     ]
    }
   ],
   "source": [
    "model = AutoModelForSequenceClassification.from_pretrained(\"google-bert/bert-base-cased\", num_labels=5)"
   ]
  },
  {
   "cell_type": "markdown",
   "id": "d028d361",
   "metadata": {},
   "source": [
    "Create class that'll contain hyperparameters from training as well as checkpoints."
   ]
  },
  {
   "cell_type": "code",
   "execution_count": 11,
   "id": "0086bbf4",
   "metadata": {},
   "outputs": [],
   "source": [
    "from transformers import TrainingArguments"
   ]
  },
  {
   "cell_type": "code",
   "execution_count": 12,
   "id": "d1c4b956",
   "metadata": {},
   "outputs": [],
   "source": [
    "training_args = TrainingArguments(output_dir=\"test_trainer\")"
   ]
  },
  {
   "cell_type": "markdown",
   "id": "6894cc89",
   "metadata": {},
   "source": [
    "Evaluate model during training"
   ]
  },
  {
   "cell_type": "code",
   "execution_count": 15,
   "id": "f94a36f8",
   "metadata": {},
   "outputs": [],
   "source": [
    "import numpy as np\n",
    "import evaluate\n",
    "metric = evaluate.load(\"accuracy\")"
   ]
  },
  {
   "cell_type": "markdown",
   "id": "20073433",
   "metadata": {},
   "source": [
    "Compute the metrics converting logits to predictions."
   ]
  },
  {
   "cell_type": "code",
   "execution_count": 16,
   "id": "7308f999",
   "metadata": {},
   "outputs": [],
   "source": [
    "def compute_metrics(eval_pred):\n",
    "    logits, labels = eval_pred\n",
    "    predictions = np.argmax(logits, axis=-1)\n",
    "    return metric.compute(predictions=predictions, references=labels)"
   ]
  },
  {
   "cell_type": "markdown",
   "id": "d72cc69a",
   "metadata": {},
   "source": [
    "specify the eval_strategy parameter in training arguments to report the evaluation metric at the end of each epoch"
   ]
  },
  {
   "cell_type": "code",
   "execution_count": 17,
   "id": "979e07e7",
   "metadata": {},
   "outputs": [],
   "source": [
    "import torch\n",
    "from transformers import TrainingArguments, Trainer"
   ]
  },
  {
   "cell_type": "code",
   "execution_count": 18,
   "id": "f8861c34",
   "metadata": {},
   "outputs": [],
   "source": [
    "training_args = TrainingArguments(output_dir=\"test_trainer\", eval_strategy=\"epoch\")\n"
   ]
  },
  {
   "cell_type": "markdown",
   "id": "cfa98cf6",
   "metadata": {},
   "source": [
    "Now actually get the training off the ground. Initialize the trainer with all the setup we've done."
   ]
  },
  {
   "cell_type": "code",
   "execution_count": 19,
   "id": "322c4b08",
   "metadata": {},
   "outputs": [],
   "source": [
    "trainer = Trainer(\n",
    "    model=model,\n",
    "    args=training_args,\n",
    "    train_dataset=small_train_dataset,\n",
    "    eval_dataset=small_eval_dataset,\n",
    "    compute_metrics=compute_metrics,\n",
    ")"
   ]
  },
  {
   "cell_type": "markdown",
   "id": "451c2423",
   "metadata": {},
   "source": [
    "Now actually do the training."
   ]
  },
  {
   "cell_type": "code",
   "execution_count": 20,
   "id": "8c5569f7",
   "metadata": {},
   "outputs": [
    {
     "name": "stderr",
     "output_type": "stream",
     "text": [
      "                                                 \n",
      " 33%|███▎      | 125/375 [13:27<19:23,  4.65s/it]"
     ]
    },
    {
     "name": "stdout",
     "output_type": "stream",
     "text": [
      "{'eval_loss': 1.2962383031845093, 'eval_accuracy': 0.478, 'eval_runtime': 176.7811, 'eval_samples_per_second': 5.657, 'eval_steps_per_second': 0.707, 'epoch': 1.0}\n"
     ]
    },
    {
     "name": "stderr",
     "output_type": "stream",
     "text": [
      "                                                   \n",
      " 67%|██████▋   | 250/375 [26:53<10:14,  4.92s/it]"
     ]
    },
    {
     "name": "stdout",
     "output_type": "stream",
     "text": [
      "{'eval_loss': 0.9933936595916748, 'eval_accuracy': 0.575, 'eval_runtime': 174.6948, 'eval_samples_per_second': 5.724, 'eval_steps_per_second': 0.716, 'epoch': 2.0}\n"
     ]
    },
    {
     "name": "stderr",
     "output_type": "stream",
     "text": [
      "                                                   \n",
      "100%|██████████| 375/375 [40:14<00:00,  6.44s/it]"
     ]
    },
    {
     "name": "stdout",
     "output_type": "stream",
     "text": [
      "{'eval_loss': 1.0068022012710571, 'eval_accuracy': 0.588, 'eval_runtime': 173.3425, 'eval_samples_per_second': 5.769, 'eval_steps_per_second': 0.721, 'epoch': 3.0}\n",
      "{'train_runtime': 2414.6244, 'train_samples_per_second': 1.242, 'train_steps_per_second': 0.155, 'train_loss': 1.098946533203125, 'epoch': 3.0}\n"
     ]
    },
    {
     "name": "stderr",
     "output_type": "stream",
     "text": [
      "\n"
     ]
    },
    {
     "data": {
      "text/plain": [
       "TrainOutput(global_step=375, training_loss=1.098946533203125, metrics={'train_runtime': 2414.6244, 'train_samples_per_second': 1.242, 'train_steps_per_second': 0.155, 'total_flos': 789354427392000.0, 'train_loss': 1.098946533203125, 'epoch': 3.0})"
      ]
     },
     "execution_count": 20,
     "metadata": {},
     "output_type": "execute_result"
    }
   ],
   "source": [
    "trainer.train()"
   ]
  }
 ],
 "metadata": {
  "kernelspec": {
   "display_name": "Python 3 (ipykernel)",
   "language": "python",
   "name": "python3"
  },
  "language_info": {
   "codemirror_mode": {
    "name": "ipython",
    "version": 3
   },
   "file_extension": ".py",
   "mimetype": "text/x-python",
   "name": "python",
   "nbconvert_exporter": "python",
   "pygments_lexer": "ipython3",
   "version": "3.12.3"
  }
 },
 "nbformat": 4,
 "nbformat_minor": 5
}
